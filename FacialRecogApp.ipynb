{
 "cells": [
  {
   "cell_type": "markdown",
   "id": "a7fb10a4-a9c3-4a80-8138-13920ddcd5fc",
   "metadata": {},
   "source": [
    "# Steps- \n",
    "- Connect to Google Drive\n",
    "- Get image one by one in loop -\n",
    "- For one image -\n",
    "- Get image - do haar cascade to find faces\n",
    "- Get crops for each face - store them in a folder - 'StoredFaces'\n",
    "- Get encodings for these\n",
    "- Add person idx, and encodings for this person in encodings file\n",
    "- Get Image file and add image file name, and list of peole in it - [person_idx_1 , idx_2 ,..idx_3.....]\n",
    "- Once done for this image - delete all files in StoredFaces\n",
    "- Get image 2 - (second iter of loop)\n",
    "- Get crops for each face\n",
    "- Get encodings for these\n",
    "- Check if any face recognized in the existing encodings.\n",
    "- If no - add people like above\n",
    "- If yes - add encoding in that existing person list\n",
    "- Add Image file name, list of people in it in a list again\n",
    "- Follow the process for each image"
   ]
  },
  {
   "cell_type": "markdown",
   "id": "69b414c5-c063-4e24-a8b9-9a2013d2338a",
   "metadata": {},
   "source": [
    "# To retrieve images - \n",
    "- Get faces crops from haar cascade\n",
    "- Check embeddings for each person's embeddings. [0]\n",
    "- When found - get person idx\n",
    "- Check each img for this person idx\n",
    "- Get all images with this person idx and display"
   ]
  },
  {
   "cell_type": "code",
   "execution_count": null,
   "id": "5875af4f-bbc4-45d6-95ea-9bfd20ccee37",
   "metadata": {},
   "outputs": [],
   "source": []
  }
 ],
 "metadata": {
  "kernelspec": {
   "display_name": "Python [conda env:base] *",
   "language": "python",
   "name": "conda-base-py"
  },
  "language_info": {
   "codemirror_mode": {
    "name": "ipython",
    "version": 3
   },
   "file_extension": ".py",
   "mimetype": "text/x-python",
   "name": "python",
   "nbconvert_exporter": "python",
   "pygments_lexer": "ipython3",
   "version": "3.12.7"
  }
 },
 "nbformat": 4,
 "nbformat_minor": 5
}
